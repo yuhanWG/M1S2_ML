{
 "cells": [
  {
   "cell_type": "markdown",
   "metadata": {},
   "source": [
    "## TME1: arbre de decision\n",
    "#### binome: Yuhan WANG et Tianyu WANG"
   ]
  },
  {
   "cell_type": "markdown",
   "metadata": {},
   "source": [
    "### Importer les données"
   ]
  },
  {
   "cell_type": "code",
   "execution_count": 228,
   "metadata": {},
   "outputs": [],
   "source": [
    "import pickle\n",
    "import numpy as np"
   ]
  },
  {
   "cell_type": "code",
   "execution_count": 229,
   "metadata": {},
   "outputs": [],
   "source": [
    "[data,id2titles,fields]=pickle.load(open(\"imdb_extrait.pkl\",\"rb\"))"
   ]
  },
  {
   "cell_type": "code",
   "execution_count": 231,
   "metadata": {
    "scrolled": true
   },
   "outputs": [
    {
     "name": "stdout",
     "output_type": "stream",
     "text": [
      "(4587, 34)\n",
      "dict_keys([0, 1, 2, 3, 4, 5, 6, 7, 8, 9, 10, 11, 12, 13, 14, 15, 16, 17, 18, 19, 20, 21, 22, 23, 24, 25, 26, 27, 28, 29, 30, 31, 32, 33])\n",
      "dict_values(['Sci-Fi', 'Crime', 'Romance', 'Animation', 'Music', 'Comedy', 'War', 'Horror', 'Film-Noir', 'Adult', 'News', 'Reality-TV', 'Thriller', 'Western', 'Mystery', 'Short', 'Talk-Show', 'Drama', 'Action', 'Documentary', 'Musical', 'History', 'Family', 'Adventure', 'Fantasy', 'Game-Show', 'Sport', 'Biography', 'Duree', 'couleur', 'annee', 'budget', 'nb_votes', 'rating'])\n"
     ]
    }
   ],
   "source": [
    "print(data.shape)\n",
    "print(fields.keys())\n",
    "print(fields.values())"
   ]
  },
  {
   "cell_type": "code",
   "execution_count": 232,
   "metadata": {},
   "outputs": [
    {
     "name": "stdout",
     "output_type": "stream",
     "text": [
      "(4587, 32)\n"
     ]
    }
   ],
   "source": [
    "datax=data[:,:32]\n",
    "print(datax.shape)"
   ]
  },
  {
   "cell_type": "code",
   "execution_count": 5,
   "metadata": {},
   "outputs": [],
   "source": [
    "datay=np.array([1 if x[33]>6.5 else -1 for x in data])"
   ]
  },
  {
   "cell_type": "code",
   "execution_count": 233,
   "metadata": {},
   "outputs": [
    {
     "name": "stdout",
     "output_type": "stream",
     "text": [
      "4587\n"
     ]
    }
   ],
   "source": [
    "print(len(datay))"
   ]
  },
  {
   "cell_type": "markdown",
   "metadata": {},
   "source": [
    "#### Exo1-Entropie"
   ]
  },
  {
   "cell_type": "code",
   "execution_count": 7,
   "metadata": {},
   "outputs": [],
   "source": [
    "from collections import *"
   ]
  },
  {
   "cell_type": "code",
   "execution_count": 8,
   "metadata": {},
   "outputs": [],
   "source": [
    "count=Counter(datay)"
   ]
  },
  {
   "cell_type": "code",
   "execution_count": 9,
   "metadata": {},
   "outputs": [
    {
     "name": "stdout",
     "output_type": "stream",
     "text": [
      "dict_keys([-1, 1])\n"
     ]
    }
   ],
   "source": [
    "print(count.keys())"
   ]
  },
  {
   "cell_type": "markdown",
   "metadata": {},
   "source": [
    "#### Q1.1"
   ]
  },
  {
   "cell_type": "code",
   "execution_count": 10,
   "metadata": {},
   "outputs": [],
   "source": [
    "def entropie(vect):\n",
    "    H=0\n",
    "    count=Counter(vect)\n",
    "    for x in (count.keys()):\n",
    "        px=count[x]/len(vect)\n",
    "        H-=(px)*math.log(px)\n",
    "    return H"
   ]
  },
  {
   "cell_type": "markdown",
   "metadata": {},
   "source": [
    "#### Q1.2"
   ]
  },
  {
   "cell_type": "code",
   "execution_count": 234,
   "metadata": {},
   "outputs": [],
   "source": [
    "def entropie_cond(list_vect):\n",
    "    #list_vect : une nested listes de labels, c'est la partition\n",
    "    y = numpy.concatenate([numpy.array(i) for i in list_vect])\n",
    "    len_all=len(y)\n",
    "    hcond=0\n",
    "    for partition in list_vect:\n",
    "        pp=len(partition)/len_all\n",
    "        hcond-=pp*entropie(partition)\n",
    "    return hcond"
   ]
  },
  {
   "cell_type": "code",
   "execution_count": 235,
   "metadata": {},
   "outputs": [],
   "source": [
    "from decisiontree import *\n",
    "import math\n",
    "import matplotlib.pyplot as plt"
   ]
  },
  {
   "cell_type": "code",
   "execution_count": 239,
   "metadata": {},
   "outputs": [],
   "source": [
    "enty=entropy(datay)"
   ]
  },
  {
   "cell_type": "code",
   "execution_count": 240,
   "metadata": {},
   "outputs": [
    {
     "data": {
      "text/plain": [
       "0.9869089469021288"
      ]
     },
     "execution_count": 240,
     "metadata": {},
     "output_type": "execute_result"
    }
   ],
   "source": [
    "enty"
   ]
  },
  {
   "cell_type": "markdown",
   "metadata": {},
   "source": [
    "#### Q1.3"
   ]
  },
  {
   "cell_type": "code",
   "execution_count": 169,
   "metadata": {},
   "outputs": [],
   "source": [
    "l=[]\n",
    "for i in range(28):\n",
    "    l.append(\n",
    "        entropy_cond([datay[datax[:,i]==1], datay[datax[:,i]==0]])\n",
    "    )"
   ]
  },
  {
   "cell_type": "code",
   "execution_count": 242,
   "metadata": {},
   "outputs": [
    {
     "name": "stdout",
     "output_type": "stream",
     "text": [
      "meilleur attribut pour la premiere partition est:  Drama\n"
     ]
    }
   ],
   "source": [
    "print(\"meilleur attribut pour la premiere partition est: \",fields[np.argmin(l)])"
   ]
  },
  {
   "cell_type": "markdown",
   "metadata": {},
   "source": [
    "### Quelques expériences préliminaires"
   ]
  },
  {
   "cell_type": "markdown",
   "metadata": {},
   "source": [
    "#### Q1.4"
   ]
  },
  {
   "cell_type": "code",
   "execution_count": 243,
   "metadata": {},
   "outputs": [
    {
     "name": "stdout",
     "output_type": "stream",
     "text": [
      "[-1, 1, 1, 1, 1]\n",
      "0.8\n",
      "var Drama :  > 0.500000 \n",
      "\tvar budget :  > 15660000.000000 \n",
      "\t\tclass : 1 {1: 691, -1: 465}\n",
      "\tvar budget :  <= 15660000.000000 \n",
      "\t\tclass : 1 {1: 923, -1: 190}\n",
      "var Drama :  <= 0.500000 \n",
      "\tvar annee :  > 1984.500000 \n",
      "\t\tclass : -1 {-1: 1264, 1: 735}\n",
      "\tvar annee :  <= 1984.500000 \n",
      "\t\tclass : 1 {1: 253, -1: 66}\n",
      "\n"
     ]
    }
   ],
   "source": [
    "dt = DecisionTree ()\n",
    "dt . max_depth = 2 # on fixe la taille de l ’ arbre a 5\n",
    "dt . min_samples_split = 2 # nombre minimum d ’ exemples pour spliter un noeud\n",
    "dt . fit ( datax , datay )\n",
    "\n",
    "dataxnew=datax [:5 ,:]\n",
    "dataynew=datay[:5]\n",
    "nombre=dt . predict ( datax [:5 ,:])\n",
    "print (nombre)\n",
    "print ( dt . score ( dataxnew , dataynew ))\n",
    "dt.to_pdf (\"test_tree.pdf \", fields )\n",
    "dt . to_dot ( fields )\n",
    "print ( dt . print_tree ( fields ))"
   ]
  },
  {
   "cell_type": "markdown",
   "metadata": {},
   "source": [
    "#### Q1.5"
   ]
  },
  {
   "cell_type": "code",
   "execution_count": 244,
   "metadata": {},
   "outputs": [],
   "source": [
    "max_depth=[5,10,15,20,25]"
   ]
  },
  {
   "cell_type": "code",
   "execution_count": 245,
   "metadata": {},
   "outputs": [],
   "source": [
    "import math"
   ]
  },
  {
   "cell_type": "code",
   "execution_count": 247,
   "metadata": {},
   "outputs": [],
   "source": [
    "l=[]\n",
    "for d in max_depth:\n",
    "    dt = DecisionTree ()\n",
    "    dt . max_depth = d \n",
    "    dt . min_samples_split = 2\n",
    "    dt . fit(datax,datay)\n",
    "    l.append(dt.score(datax,datay))\n",
    "    "
   ]
  },
  {
   "cell_type": "code",
   "execution_count": 248,
   "metadata": {},
   "outputs": [
    {
     "data": {
      "text/plain": [
       "<function matplotlib.pyplot.show(*args, **kw)>"
      ]
     },
     "execution_count": 248,
     "metadata": {},
     "output_type": "execute_result"
    },
    {
     "data": {
      "image/png": "[encoded data removed]",
      "text/plain": [
       "<Figure size 432x288 with 1 Axes>"
      ]
     },
     "metadata": {
      "needs_background": "light"
     },
     "output_type": "display_data"
    }
   ],
   "source": [
    "ll=plt.plot(max_depth,l,'r',label=\"score\")\n",
    "plt.xlabel(\"nb du profondeur\")\n",
    "plt.ylabel(\"score\")\n",
    "plt.legend()\n",
    "plt.show"
   ]
  },
  {
   "cell_type": "markdown",
   "metadata": {},
   "source": [
    "### Sur et sous apprentissage"
   ]
  },
  {
   "cell_type": "code",
   "execution_count": 249,
   "metadata": {},
   "outputs": [],
   "source": [
    "def splitBase(prc1,datax,datay):\n",
    "    label=np.arange(datax.shape[0])\n",
    "    np.random.shuffle(label)\n",
    "    len1=int(math.ceil(datax.shape[0]*prc1))\n",
    "    train=label[:len1]\n",
    "    test=label[len1:]\n",
    "    return datax[train],datax[test],datay[train],datay[test]"
   ]
  },
  {
   "cell_type": "code",
   "execution_count": 250,
   "metadata": {},
   "outputs": [],
   "source": [
    "trainX,testX,trainY,testY=splitBase(0.8,datax,datay)"
   ]
  },
  {
   "cell_type": "code",
   "execution_count": 251,
   "metadata": {},
   "outputs": [
    {
     "name": "stdout",
     "output_type": "stream",
     "text": [
      "(3670, 32) (917, 32) 3670 917\n"
     ]
    }
   ],
   "source": [
    "print(trainX.shape,testX.shape,len(trainY),len(testY))"
   ]
  },
  {
   "cell_type": "code",
   "execution_count": 212,
   "metadata": {},
   "outputs": [],
   "source": [
    "score_test1=[]\n",
    "score_train1=[]"
   ]
  },
  {
   "cell_type": "code",
   "execution_count": 213,
   "metadata": {},
   "outputs": [
    {
     "name": "stdout",
     "output_type": "stream",
     "text": [
      "0.7326975476839237\n",
      "0.8250681198910081\n",
      "0.8910081743869209\n",
      "0.9087193460490464\n",
      "0.9103542234332425\n"
     ]
    }
   ],
   "source": [
    "trainX,testX,trainY,testY=splitBase(0.8,datax,datay)\n",
    "for d in max_depth:\n",
    "    dt = DecisionTree ()\n",
    "    dt . max_depth = d # on fixe la taille de l ’ arbre a 5\n",
    "    dt . min_samples_split = 2 # nombre minimum d ’ exemples pour spliter un noeud\n",
    "    \n",
    "    dt.fit(trainX,trainY)\n",
    "\n",
    "    score_train1.append(dt.score(trainX,trainY))\n",
    "    score_test1.append(dt.score(testX,testY))\n",
    "    #nombre=dt.predict ( datax [:5 ,:])\n",
    "    print ( dt.score(trainX,trainY ))"
   ]
  },
  {
   "cell_type": "code",
   "execution_count": 221,
   "metadata": {},
   "outputs": [],
   "source": [
    "score_test2=[]\n",
    "score_train2=[]"
   ]
  },
  {
   "cell_type": "code",
   "execution_count": 222,
   "metadata": {},
   "outputs": [
    {
     "name": "stdout",
     "output_type": "stream",
     "text": [
      "0.7275501307759372\n",
      "0.8195292066259808\n",
      "0.8792502179598953\n",
      "0.8918918918918919\n",
      "0.8927637314734089\n"
     ]
    }
   ],
   "source": [
    "trainX,testX,trainY,testY=splitBase(0.5,datax,datay)\n",
    "for d in max_depth:\n",
    "    dt = DecisionTree ()\n",
    "    dt . max_depth = d # on fixe la taille de l ’ arbre a 5\n",
    "    dt . min_samples_split = 2 # nombre minimum d ’ exemples pour spliter un noeud\n",
    "    \n",
    "    dt.fit(trainX,trainY)\n",
    "\n",
    "    score_train2.append(dt.score(trainX,trainY))\n",
    "    score_test2.append(dt.score(testX,testY))\n",
    "    #nombre=dt.predict ( datax [:5 ,:])\n",
    "    print ( dt.score(trainX,trainY ))"
   ]
  },
  {
   "cell_type": "code",
   "execution_count": 224,
   "metadata": {},
   "outputs": [],
   "source": [
    "score_test3=[]\n",
    "score_train3=[]"
   ]
  },
  {
   "cell_type": "code",
   "execution_count": 225,
   "metadata": {},
   "outputs": [
    {
     "name": "stdout",
     "output_type": "stream",
     "text": [
      "0.7984749455337691\n",
      "0.8790849673202614\n",
      "0.900871459694989\n",
      "0.9019607843137255\n",
      "0.9019607843137255\n"
     ]
    }
   ],
   "source": [
    "trainX,testX,trainY,testY=splitBase(0.2,datax,datay)\n",
    "for d in max_depth:\n",
    "    dt = DecisionTree ()\n",
    "    dt . max_depth = d # on fixe la taille de l ’ arbre a 5\n",
    "    dt . min_samples_split = 2 # nombre minimum d ’ exemples pour spliter un noeud\n",
    "    \n",
    "    dt.fit(trainX,trainY)\n",
    "\n",
    "    score_train3.append(dt.score(trainX,trainY))\n",
    "    score_test3.append(dt.score(testX,testY))\n",
    "    #nombre=dt.predict ( datax [:5 ,:])\n",
    "    print ( dt.score(trainX,trainY ))"
   ]
  },
  {
   "cell_type": "code",
   "execution_count": 226,
   "metadata": {},
   "outputs": [
    {
     "data": {
      "text/plain": [
       "<function matplotlib.pyplot.show(*args, **kw)>"
      ]
     },
     "execution_count": 226,
     "metadata": {},
     "output_type": "execute_result"
    },
    {
     "data": {
      "image/png": "[encoded data removed]",
      "text/plain": [
       "<Figure size 432x288 with 1 Axes>"
      ]
     },
     "metadata": {
      "needs_background": "light"
     },
     "output_type": "display_data"
    }
   ],
   "source": [
    "l1=plt.plot(max_depth,score_train1,'r',label=\"train_0.8\")\n",
    "l11=plt.plot(max_depth,score_test1,'r--',label=\"test_0.8\")\n",
    "l2=plt.plot(max_depth,score_train2,'b',label=\"train_0.5\")\n",
    "l22=plt.plot(max_depth,score_test2,'b--',label=\"test_0.5\")\n",
    "l3=plt.plot(max_depth,score_train3,'g',label=\"train_0.2\")\n",
    "l33=plt.plot(max_depth,score_test3,'g--',label=\"test_0.2\")\n",
    "plt.xlabel(\"nb du profondeur\")\n",
    "plt.ylabel(\"score\")\n",
    "plt.legend()\n",
    "plt.show"
   ]
  },
  {
   "cell_type": "markdown",
   "metadata": {},
   "source": [
    "### Validation croisee: selection de modele"
   ]
  },
  {
   "cell_type": "code",
   "execution_count": 259,
   "metadata": {},
   "outputs": [
    {
     "data": {
      "text/plain": [
       "0.7202614379084966"
      ]
     },
     "execution_count": 259,
     "metadata": {},
     "output_type": "execute_result"
    }
   ],
   "source": [
    "validation_croise(datax,datay,10)"
   ]
  },
  {
   "cell_type": "code",
   "execution_count": 263,
   "metadata": {},
   "outputs": [],
   "source": [
    "max_depth2=[2,4,6,8,10]"
   ]
  },
  {
   "cell_type": "code",
   "execution_count": 264,
   "metadata": {},
   "outputs": [],
   "source": [
    "l=[]\n",
    "for d in max_depth2:\n",
    "    dt = DecisionTree ()\n",
    "    dt . max_depth = d \n",
    "    dt . min_samples_split = 2\n",
    "    dt . fit(datax,datay)\n",
    "    l.append(validation_croise(datax,datay,10))"
   ]
  },
  {
   "cell_type": "code",
   "execution_count": 265,
   "metadata": {},
   "outputs": [
    {
     "data": {
      "text/plain": [
       "<function matplotlib.pyplot.show(*args, **kw)>"
      ]
     },
     "execution_count": 265,
     "metadata": {},
     "output_type": "execute_result"
    },
    {
     "data": {
      "image/png": "[encoded data removed]",
      "text/plain": [
       "<Figure size 432x288 with 1 Axes>"
      ]
     },
     "metadata": {
      "needs_background": "light"
     },
     "output_type": "display_data"
    }
   ],
   "source": [
    "ll=plt.plot(max_depth,l,'r',label=\"score\")\n",
    "plt.xlabel(\"nb du profondeur\")\n",
    "plt.ylabel(\"score\")\n",
    "plt.legend()\n",
    "plt.show"
   ]
  },
  {
   "cell_type": "code",
   "execution_count": null,
   "metadata": {},
   "outputs": [],
   "source": []
  }
 ],
 "metadata": {
  "kernelspec": {
   "display_name": "Python 3",
   "language": "python",
   "name": "python3"
  },
  "language_info": {
   "codemirror_mode": {
    "name": "ipython",
    "version": 3
   },
   "file_extension": ".py",
   "mimetype": "text/x-python",
   "name": "python",
   "nbconvert_exporter": "python",
   "pygments_lexer": "ipython3",
   "version": "3.7.1"
  }
 },
 "nbformat": 4,
 "nbformat_minor": 2
}
