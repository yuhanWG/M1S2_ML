{
 "cells": [
  {
   "cell_type": "markdown",
   "metadata": {},
   "source": [
    "## Importer les données"
   ]
  },
  {
   "cell_type": "code",
   "execution_count": 1,
   "metadata": {},
   "outputs": [],
   "source": [
    "import pickle\n",
    "import numpy as np"
   ]
  },
  {
   "cell_type": "code",
   "execution_count": 2,
   "metadata": {},
   "outputs": [],
   "source": [
    "[data,id2titles,fields]=pickle.load(open(\"imdb_extrait.pkl\",\"rb\"))"
   ]
  },
  {
   "cell_type": "markdown",
   "metadata": {},
   "source": [
    "### ce que le fichier comprend \n",
    "data enregistre 4587 films et leurs discriptions\n",
    "id2titles est une dictionnaire qui enregistre les id est leurs titles\n",
    "fields enregistre les catégories du film\n",
    "### datax prend les premiers 32 critères parmi les 34\n",
    "### datay enregistre les étiquettes pour celuis dans datax : 1 ou -1"
   ]
  },
  {
   "cell_type": "code",
   "execution_count": 3,
   "metadata": {
    "scrolled": true
   },
   "outputs": [
    {
     "name": "stdout",
     "output_type": "stream",
     "text": [
      "(4587, 34)\n",
      "[0.0000e+00 0.0000e+00 0.0000e+00 0.0000e+00 0.0000e+00 1.0000e+00\n",
      " 0.0000e+00 0.0000e+00 0.0000e+00 0.0000e+00 0.0000e+00 0.0000e+00\n",
      " 0.0000e+00 0.0000e+00 0.0000e+00 0.0000e+00 0.0000e+00 0.0000e+00\n",
      " 1.0000e+00 0.0000e+00 0.0000e+00 0.0000e+00 0.0000e+00 1.0000e+00\n",
      " 0.0000e+00 0.0000e+00 0.0000e+00 0.0000e+00 1.0800e+02 2.0000e+00\n",
      " 1.9880e+03 1.2324e+07 4.2062e+04 5.5000e+00]\n",
      "4587\n",
      "dict_keys([0, 1, 2, 3, 4, 5, 6, 7, 8, 9, 10, 11, 12, 13, 14, 15, 16, 17, 18, 19, 20, 21, 22, 23, 24, 25, 26, 27, 28, 29, 30, 31, 32, 33])\n",
      "dict_values(['Sci-Fi', 'Crime', 'Romance', 'Animation', 'Music', 'Comedy', 'War', 'Horror', 'Film-Noir', 'Adult', 'News', 'Reality-TV', 'Thriller', 'Western', 'Mystery', 'Short', 'Talk-Show', 'Drama', 'Action', 'Documentary', 'Musical', 'History', 'Family', 'Adventure', 'Fantasy', 'Game-Show', 'Sport', 'Biography', 'Duree', 'couleur', 'annee', 'budget', 'nb_votes', 'rating'])\n"
     ]
    }
   ],
   "source": [
    "print(data.shape)\n",
    "print(data[0,:])\n",
    "print(len(id2titles.keys()))\n",
    "print(fields.keys())\n",
    "print(fields.values())"
   ]
  },
  {
   "cell_type": "code",
   "execution_count": 4,
   "metadata": {},
   "outputs": [
    {
     "name": "stdout",
     "output_type": "stream",
     "text": [
      "(4587, 32)\n"
     ]
    }
   ],
   "source": [
    "datax=data[:,:32]\n",
    "print(datax.shape)"
   ]
  },
  {
   "cell_type": "code",
   "execution_count": 5,
   "metadata": {},
   "outputs": [],
   "source": [
    "datay=np.array([1 if x[33]>6.5 else -1 for x in data])"
   ]
  },
  {
   "cell_type": "code",
   "execution_count": 6,
   "metadata": {},
   "outputs": [
    {
     "data": {
      "text/plain": [
       "array([-1,  1,  1, ...,  1,  1, -1])"
      ]
     },
     "execution_count": 6,
     "metadata": {},
     "output_type": "execute_result"
    }
   ],
   "source": [
    "datay"
   ]
  },
  {
   "cell_type": "markdown",
   "metadata": {},
   "source": [
    "## Arbre de décision\n",
    "une mesure d'homognénéité sur la partition, l'entropie de Shannon ou l'index de Gini\n",
    "algo de decision:  \n",
    "\n",
    "    chaque dimension d'espace de description est considérée itérativement  \n",
    "    pour chaque seuil(split) possible, calculer l'homogénéité des deux partitions obtenues, choisi le meulleur honogeneité  \n",
    "    "
   ]
  },
  {
   "cell_type": "code",
   "execution_count": 7,
   "metadata": {},
   "outputs": [],
   "source": [
    "from collections import *"
   ]
  },
  {
   "cell_type": "code",
   "execution_count": 8,
   "metadata": {},
   "outputs": [],
   "source": [
    "count=Counter(datay)"
   ]
  },
  {
   "cell_type": "code",
   "execution_count": 9,
   "metadata": {},
   "outputs": [
    {
     "name": "stdout",
     "output_type": "stream",
     "text": [
      "dict_keys([-1, 1])\n"
     ]
    }
   ],
   "source": [
    "print(count.keys())"
   ]
  },
  {
   "cell_type": "code",
   "execution_count": 10,
   "metadata": {},
   "outputs": [],
   "source": [
    "def entropie(vect):\n",
    "    H=0\n",
    "    count=Counter(vect)\n",
    "    for x in (count.keys()):\n",
    "        px=count[x]/len(vect)\n",
    "        H-=(px)*math.log(px)\n",
    "    return H"
   ]
  },
  {
   "cell_type": "code",
   "execution_count": 11,
   "metadata": {},
   "outputs": [],
   "source": [
    "def entropie_cond(list_vect):\n",
    "    #list_vect : une nested listes de labels, c'est la partition\n",
    "    y = numpy.concatenate([numpy.array(i) for i in list_vect])\n",
    "    len_all=len(y)\n",
    "    hcond=0\n",
    "    for partition in list_vect:\n",
    "        pp=len(partition)/len_all\n",
    "        hcond-=pp*entropie(partition)\n",
    "    return hcond"
   ]
  },
  {
   "cell_type": "markdown",
   "metadata": {},
   "source": [
    "## Quelques expériences préliminaires"
   ]
  },
  {
   "cell_type": "code",
   "execution_count": 38,
   "metadata": {},
   "outputs": [],
   "source": [
    "from decisiontree import DecisionTree\n",
    "#import pydot as py\n",
    "import math"
   ]
  },
  {
   "cell_type": "code",
   "execution_count": 46,
   "metadata": {},
   "outputs": [],
   "source": [
    "def randomList(data,p):\n",
    "    nb=math.floor(data.shape[0]*p)\n",
    "    train=[]\n",
    "    \n",
    "    while(len(train)<nb):\n",
    "        t=np.random.randint(0,data.shape[0])\n",
    "        if(t not in train):\n",
    "            train.append(t)\n",
    "    return train"
   ]
  },
  {
   "cell_type": "code",
   "execution_count": 47,
   "metadata": {},
   "outputs": [
    {
     "name": "stdout",
     "output_type": "stream",
     "text": [
      "458\n"
     ]
    }
   ],
   "source": [
    "x=randomList(datax,0.1)\n",
    "print(len(x))\n"
   ]
  },
  {
   "cell_type": "code",
   "execution_count": null,
   "metadata": {},
   "outputs": [],
   "source": [
    "def train_test(datax,datay):"
   ]
  },
  {
   "cell_type": "code",
   "execution_count": 30,
   "metadata": {},
   "outputs": [
    {
     "name": "stdout",
     "output_type": "stream",
     "text": [
      "0.6\n",
      "var Drama :  > 0.500000 \n",
      "\tvar budget :  > 15660000.000000 \n",
      "\t\tvar Duree :  > 115.500000 \n",
      "\t\t\tvar budget :  > 36500000.000000 \n",
      "\t\t\t\tvar Duree :  > 137.500000 \n",
      "\t\t\t\t\tclass : 1 {1: 101, -1: 20}\n",
      "\t\t\t\tvar Duree :  <= 137.500000 \n",
      "\t\t\t\t\tclass : 1 {-1: 94, 1: 109}\n",
      "\t\t\tvar budget :  <= 36500000.000000 \n",
      "\t\t\t\tvar Sci-Fi :  > 0.500000 \n",
      "\t\t\t\t\tclass : -1 {-1: 5, 1: 4}\n",
      "\t\t\t\tvar Sci-Fi :  <= 0.500000 \n",
      "\t\t\t\t\tclass : 1 {1: 252, -1: 31}\n",
      "\t\tvar Duree :  <= 115.500000 \n",
      "\t\t\tvar Biography :  > 0.500000 \n",
      "\t\t\t\tvar annee :  > 2011.500000 \n",
      "\t\t\t\t\tclass : -1 {-1: 2}\n",
      "\t\t\t\tvar annee :  <= 2011.500000 \n",
      "\t\t\t\t\tclass : 1 {1: 24, -1: 2}\n",
      "\t\t\tvar Biography :  <= 0.500000 \n",
      "\t\t\t\tvar Thriller :  > 0.500000 \n",
      "\t\t\t\t\tclass : -1 {-1: 162, 1: 66}\n",
      "\t\t\t\tvar Thriller :  <= 0.500000 \n",
      "\t\t\t\t\tclass : -1 {1: 135, -1: 149}\n",
      "\tvar budget :  <= 15660000.000000 \n",
      "\t\tvar annee :  > 1973.500000 \n",
      "\t\t\tvar Duree :  > 104.500000 \n",
      "\t\t\t\tvar budget :  > 11158052.500000 \n",
      "\t\t\t\t\tclass : 1 {1: 131, -1: 39}\n",
      "\t\t\t\tvar budget :  <= 11158052.500000 \n",
      "\t\t\t\t\tclass : 1 {-1: 25, 1: 321}\n",
      "\t\t\tvar Duree :  <= 104.500000 \n",
      "\t\t\t\tvar Thriller :  > 0.500000 \n",
      "\t\t\t\t\tclass : 1 {1: 57, -1: 51}\n",
      "\t\t\t\tvar Thriller :  <= 0.500000 \n",
      "\t\t\t\t\tclass : 1 {1: 239, -1: 75}\n",
      "\t\tvar annee :  <= 1973.500000 \n",
      "\t\t\tclass : 1 {1: 175}\n",
      "var Drama :  <= 0.500000 \n",
      "\tvar annee :  > 1984.500000 \n",
      "\t\tvar Duree :  > 110.500000 \n",
      "\t\t\tvar Duree :  > 134.500000 \n",
      "\t\t\t\tvar Duree :  > 177.000000 \n",
      "\t\t\t\t\tclass : 1 {1: 14}\n",
      "\t\t\t\tvar Duree :  <= 177.000000 \n",
      "\t\t\t\t\tclass : 1 {-1: 26, 1: 74}\n",
      "\t\t\tvar Duree :  <= 134.500000 \n",
      "\t\t\t\tvar annee :  > 1992.500000 \n",
      "\t\t\t\t\tclass : -1 {1: 175, -1: 184}\n",
      "\t\t\t\tvar annee :  <= 1992.500000 \n",
      "\t\t\t\t\tclass : 1 {-1: 9, 1: 30}\n",
      "\t\tvar Duree :  <= 110.500000 \n",
      "\t\t\tvar Animation :  > 0.500000 \n",
      "\t\t\t\tvar budget :  > 19000000.000000 \n",
      "\t\t\t\t\tclass : 1 {1: 84, -1: 55}\n",
      "\t\t\t\tvar budget :  <= 19000000.000000 \n",
      "\t\t\t\t\tclass : 1 {1: 12, -1: 1}\n",
      "\t\t\tvar Animation :  <= 0.500000 \n",
      "\t\t\t\tvar budget :  > 6160000.000000 \n",
      "\t\t\t\t\tclass : -1 {-1: 866, 1: 247}\n",
      "\t\t\t\tvar budget :  <= 6160000.000000 \n",
      "\t\t\t\t\tclass : -1 {-1: 123, 1: 99}\n",
      "\tvar annee :  <= 1984.500000 \n",
      "\t\tvar annee :  > 1965.500000 \n",
      "\t\t\tvar Horror :  > 0.500000 \n",
      "\t\t\t\tvar Duree :  > 86.500000 \n",
      "\t\t\t\t\tclass : 1 {-1: 20, 1: 32}\n",
      "\t\t\t\tvar Duree :  <= 86.500000 \n",
      "\t\t\t\t\tclass : -1 {1: 1, -1: 7}\n",
      "\t\t\tvar Horror :  <= 0.500000 \n",
      "\t\t\t\tvar budget :  > 33250000.000000 \n",
      "\t\t\t\t\tclass : -1 {-1: 7, 1: 2}\n",
      "\t\t\t\tvar budget :  <= 33250000.000000 \n",
      "\t\t\t\t\tclass : 1 {1: 122, -1: 29}\n",
      "\t\tvar annee :  <= 1965.500000 \n",
      "\t\t\tvar budget :  > 265500.000000 \n",
      "\t\t\t\tclass : 1 {1: 85}\n",
      "\t\t\tvar budget :  <= 265500.000000 \n",
      "\t\t\t\tvar annee :  > 1950.000000 \n",
      "\t\t\t\t\tclass : 1 {1: 4, -1: 3}\n",
      "\t\t\t\tvar annee :  <= 1950.000000 \n",
      "\t\t\t\t\tclass : 1 {1: 7}\n",
      "\n"
     ]
    }
   ],
   "source": [
    "dt = DecisionTree ()\n",
    "dt . max_depth = 5 # on fixe la taille de l ’ arbre a 5\n",
    "dt . min_samples_split = 2 # nombre minimum d ’ exemples pour spliter un noeud\n",
    "dt . fit ( datax , datay )\n",
    "\n",
    "dataxnew=datax [:5 ,:]\n",
    "dataynew=datay[:5]\n",
    "#nombre=dt . predict ( datax [:5 ,:])\n",
    "#print (nombre)\n",
    "print ( dt . score ( dataxnew , dataynew ))\n",
    "# dessine l ’ arbre dans un fichier pdf si pydot est installe .\n",
    "#dt.to_pdf (\"/tmp /test_tree . pdf \", fields )\n",
    "#py.graph_from_dot_data(dt.to_dot(None))[0].write_pdf(\"/tmp /test_tree . pdf \")\n",
    "# sinon utiliser http :// www . webgraphviz . com /\n",
    "dt . to_dot ( fields )\n",
    "# ou dans la console\n",
    "print ( dt . print_tree ( fields ))"
   ]
  },
  {
   "cell_type": "code",
   "execution_count": null,
   "metadata": {},
   "outputs": [],
   "source": []
  }
 ],
 "metadata": {
  "kernelspec": {
   "display_name": "Python 3",
   "language": "python",
   "name": "python3"
  },
  "language_info": {
   "codemirror_mode": {
    "name": "ipython",
    "version": 3
   },
   "file_extension": ".py",
   "mimetype": "text/x-python",
   "name": "python",
   "nbconvert_exporter": "python",
   "pygments_lexer": "ipython3",
   "version": "3.7.1"
  }
 },
 "nbformat": 4,
 "nbformat_minor": 2
}
