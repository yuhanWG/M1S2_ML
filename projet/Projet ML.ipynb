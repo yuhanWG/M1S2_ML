{
 "cells": [
  {
   "cell_type": "markdown",
   "metadata": {},
   "source": [
    "## Projet M1 ML: inpainting"
   ]
  },
  {
   "cell_type": "markdown",
   "metadata": {},
   "source": [
    "#### Binôme: Yuhan WANG et Tianyu WANG"
   ]
  },
  {
   "cell_type": "markdown",
   "metadata": {},
   "source": [
    "### données USPS\n",
    "USPS est une base de données de classification de chiffres(0-9) manuscrits.USPS_train.txt a 7291 exemplaires et 2007 test images. The images are 16*16 grayscale pixels. Chaque image est en taille 16*16, donc en total 256 parametres x et a un attribut y qui represente auquelle classe qu'elle appartient."
   ]
  },
  {
   "cell_type": "code",
   "execution_count": 1,
   "metadata": {},
   "outputs": [],
   "source": [
    "import numpy as np\n",
    "import sklearn\n",
    "from fonctions import *"
   ]
  },
  {
   "cell_type": "code",
   "execution_count": 2,
   "metadata": {},
   "outputs": [],
   "source": [
    "X,Y=load_usps('USPS_train.txt')\n",
    "x,y=load_usps('USPS_test.txt')"
   ]
  },
  {
   "cell_type": "markdown",
   "metadata": {},
   "source": [
    "### Préambule: régression linéaire, régression ridge et LASSO\n",
    "Dans la régression linéaire, on utilise $Mse(f_w,E)=||Xw-y||^2_2$ sous l'expression de matrice. Pour minimiser la fonction d'erreur, il faut faire la dérivation:  \n",
    "    $\\frac {\\partial Mse(f_w , E)}{\\partial w}=0-2X^Ty+2X^TXw=0 $  \n",
    "    $X^TXw=2X^Ty$  \n",
    "    Pour que la partie gauche ne contient que w, il faut la multiple avec $X^TX^{-1}$, qui n'existe que pour $X^TX$ invertible (qui veut dire notre probleme n'a pas de **multicolinéarité**), qui est presque impossible dans le cas réel. Régression ridge et Lasso sont crée pour résoudre le probleme en cas de multicolinéarité."
   ]
  },
  {
   "cell_type": "code",
   "execution_count": 3,
   "metadata": {},
   "outputs": [],
   "source": [
    "train_X,train_Y=X[(Y==3)|(Y==8)],Y[(Y==3)|(Y==8)]\n",
    "test_x,test_y=x[(y==3)|(y==8)],y[(y==3)|(y==8)]\n",
    "train_Y=np.array(np.where(train_Y==3,-1,1))\n",
    "test_y=np.array(np.where(test_y==3,-1,1))"
   ]
  },
  {
   "cell_type": "code",
   "execution_count": 4,
   "metadata": {},
   "outputs": [
    {
     "data": {
      "text/plain": [
       "LinearRegression(copy_X=True, fit_intercept=True, n_jobs=None, normalize=False)"
      ]
     },
     "execution_count": 4,
     "metadata": {},
     "output_type": "execute_result"
    }
   ],
   "source": [
    "from sklearn import linear_model\n",
    "from sklearn.metrics import r2_score\n",
    "#regression lineaire:\n",
    "reg=linear_model.LinearRegression()\n",
    "reg.fit(train_X,train_Y)"
   ]
  },
  {
   "cell_type": "code",
   "execution_count": 5,
   "metadata": {
    "scrolled": true
   },
   "outputs": [
    {
     "name": "stdout",
     "output_type": "stream",
     "text": [
      "0.7433552383309949\n"
     ]
    }
   ],
   "source": [
    "print(reg.score(test_x,test_y))"
   ]
  },
  {
   "cell_type": "markdown",
   "metadata": {},
   "source": [
    "### Ridge\n",
    "$L_2(f_w,E)= Mse(f_w , E)+\\alpha||w||^2$ où $||w||^2 = \\sqrt{\\sum_{i=0}^n w_i}$  \n",
    "Si on reprend la dérivation:  \n",
    "    $\\frac{\\partial L_2(f_w,E)}{\\partial w}= \\frac{\\partial Mse(f_w , E)}{\\partial w}+\\frac{\\partial \\alpha||w||^2}{\\partial w}$  \n",
    "    $\\frac{\\partial L_2(f_w,E)}{\\partial w}= X^TXw+\\alpha w-X^Ty$=$(X^TX+\\alpha I)w-X^Ty$ où I est **matrice identité**.  \n",
    "    la dérivation=0 => $(X^TX+\\alpha I)w=X^Ty$  \n",
    "    On ajoute certains chiffres dans la diagonale de matrice $X^TX$ donc théoriquement, il est moins possible d'être **multicolinéarité**, et on peut le résoudre avec la régression.    \n",
    "### Lasso\n",
    "$L_3(f_w,E)= Mse(f_w , E)+\\alpha||w||$ où $||w|| = \\sum_{i=0}^n |w_i|$  \n",
    "$\\frac{\\partial L_3(f_w,E)}{\\partial w}= \\frac{\\partial Mse(f_w , E)}{\\partial w}+\\frac{\\partial \\alpha||w||}{\\partial w}$  \n",
    "$\\frac{\\partial L_2(f_w,E)}{\\partial w}= X^TXw+\\frac{\\alpha I}{2}-X^Ty$ si $||w||>0$, sinon $X^TXw-\\frac{\\alpha I}{2}-X^Ty$  \n",
    "Donc alpha dans l'algorithme Lasso peut être **négative**. En comparant avec Ridge, Lasso ne peut pas résoudre la multicolinéarité, mais il est utile dans la section de **contraction des coefficients**.\n"
   ]
  },
  {
   "cell_type": "code",
   "execution_count": 25,
   "metadata": {
    "scrolled": true
   },
   "outputs": [
    {
     "data": {
      "image/png": "[encoded data removed]",
      "text/plain": [
       "<Figure size 432x288 with 1 Axes>"
      ]
     },
     "metadata": {
      "needs_background": "light"
     },
     "output_type": "display_data"
    }
   ],
   "source": [
    "alpharange=np.arange(100,1000,150)\n",
    "ridges,lrs=[],[]\n",
    "varR,varLR=[],[]\n",
    "for alpha in alpharange:\n",
    "    ridge=linear_model.Ridge(alpha=alpha).fit(train_X,train_Y)\n",
    "    linear=linear_model.LinearRegression().fit(train_X,train_Y)\n",
    "    ridges.append(ridge.score(test_x,test_y))\n",
    "    lrs.append(linear.score(test_x,test_y))\n",
    "plt.plot(alpharange,ridges,color='red',label='Ridge')\n",
    "plt.plot(alpharange,lrs,color='orange',label='Linear')\n",
    "plt.title('score')\n",
    "plt.legend()\n",
    "plt.show()"
   ]
  },
  {
   "cell_type": "code",
   "execution_count": 36,
   "metadata": {},
   "outputs": [
    {
     "data": {
      "image/png": "[encoded data removed]",
      "text/plain": [
       "<Figure size 432x288 with 1 Axes>"
      ]
     },
     "metadata": {
      "needs_background": "light"
     },
     "output_type": "display_data"
    }
   ],
   "source": [
    "alpharange=np.arange(0.001,1,0.01)\n",
    "ridges,lrs=[],[]\n",
    "for alpha in alpharange:\n",
    "    ridge=linear_model.Ridge(alpha=alpha).fit(train_X,train_Y)\n",
    "    lasso=linear_model.Lasso(alpha=alpha).fit(train_X,train_Y)\n",
    "    ridges.append(ridge.score(test_x,test_y))\n",
    "    lrs.append(lasso.score(test_x,test_y))\n",
    "plt.plot(alpharange,ridges,color='red',label='Ridge')\n",
    "plt.plot(alpharange,lrs,color='blue',label='Lasso')\n",
    "plt.title('score')\n",
    "plt.legend()\n",
    "plt.show()"
   ]
  },
  {
   "cell_type": "code",
   "execution_count": null,
   "metadata": {},
   "outputs": [],
   "source": []
  }
 ],
 "metadata": {
  "kernelspec": {
   "display_name": "Python 3",
   "language": "python",
   "name": "python3"
  },
  "language_info": {
   "codemirror_mode": {
    "name": "ipython",
    "version": 3
   },
   "file_extension": ".py",
   "mimetype": "text/x-python",
   "name": "python",
   "nbconvert_exporter": "python",
   "pygments_lexer": "ipython3",
   "version": "3.7.1"
  }
 },
 "nbformat": 4,
 "nbformat_minor": 2
}
